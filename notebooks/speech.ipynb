{
 "cells": [
  {
   "cell_type": "code",
   "execution_count": 2,
   "metadata": {
    "ExecuteTime": {
     "end_time": "2023-05-25T20:41:22.139619Z",
     "start_time": "2023-05-25T20:41:22.136747Z"
    }
   },
   "outputs": [],
   "source": [
    "from speech_rec.main import SpeechRecognition"
   ]
  },
  {
   "cell_type": "code",
   "execution_count": 3,
   "metadata": {
    "ExecuteTime": {
     "end_time": "2023-05-25T20:41:26.833894Z",
     "start_time": "2023-05-25T20:41:23.204714Z"
    }
   },
   "outputs": [
    {
     "name": "stdout",
     "output_type": "stream",
     "text": [
      "[05/25 17:41:26] - \u001b[1;36m[Info]: \u001b[0m Converting audio transcripts into text ...\n",
      "[05/25 17:41:26] - \u001b[1;36m[Info]: \u001b[0m as quartos são preparados ao de queijo de tomate e sopa de abóbora com carne seca e feijão com macarrão\n"
     ]
    },
    {
     "data": {
      "text/plain": [
       "'as quartos são preparados ao de queijo de tomate e sopa de abóbora com carne seca e feijão com macarrão'"
      ]
     },
     "execution_count": 3,
     "metadata": {},
     "output_type": "execute_result"
    }
   ],
   "source": [
    "file_name = 'c8a2b187-5f1f-411e-8e7b-cffef216e7c1.wav'\n",
    "text = SpeechRecognition.call_processor(file_name)\n",
    "text"
   ]
  },
  {
   "cell_type": "code",
   "execution_count": 5,
   "metadata": {
    "ExecuteTime": {
     "end_time": "2023-05-25T20:41:41.954014Z",
     "start_time": "2023-05-25T20:41:41.934601Z"
    }
   },
   "outputs": [
    {
     "data": {
      "text/plain": [
       "[]"
      ]
     },
     "execution_count": 5,
     "metadata": {},
     "output_type": "execute_result"
    }
   ],
   "source": [
    "entidades = SpeechRecognition.ner(text)\n",
    "entidades"
   ]
  },
  {
   "cell_type": "code",
   "execution_count": null,
   "metadata": {},
   "outputs": [],
   "source": []
  }
 ],
 "metadata": {
  "kernelspec": {
   "display_name": "Python 3 (ipykernel)",
   "language": "python",
   "name": "python3"
  },
  "language_info": {
   "codemirror_mode": {
    "name": "ipython",
    "version": 3
   },
   "file_extension": ".py",
   "mimetype": "text/x-python",
   "name": "python",
   "nbconvert_exporter": "python",
   "pygments_lexer": "ipython3",
   "version": "3.8.16"
  },
  "toc": {
   "base_numbering": 1,
   "nav_menu": {},
   "number_sections": true,
   "sideBar": true,
   "skip_h1_title": false,
   "title_cell": "Table of Contents",
   "title_sidebar": "Contents",
   "toc_cell": false,
   "toc_position": {},
   "toc_section_display": true,
   "toc_window_display": false
  }
 },
 "nbformat": 4,
 "nbformat_minor": 2
}
