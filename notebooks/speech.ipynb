{
 "cells": [
  {
   "cell_type": "code",
   "execution_count": 1,
   "metadata": {
    "ExecuteTime": {
     "end_time": "2023-05-25T17:51:38.441169Z",
     "start_time": "2023-05-25T17:51:38.345909Z"
    }
   },
   "outputs": [],
   "source": [
    "import speech_recognition as sr\n",
    "from speech_rec.main import recognize_speech_from_mic"
   ]
  },
  {
   "cell_type": "code",
   "execution_count": 2,
   "metadata": {
    "ExecuteTime": {
     "end_time": "2023-05-25T17:51:38.997369Z",
     "start_time": "2023-05-25T17:51:38.985849Z"
    }
   },
   "outputs": [
    {
     "name": "stdout",
     "output_type": "stream",
     "text": [
      "3.10.0\n"
     ]
    }
   ],
   "source": [
    "print(sr.__version__)"
   ]
  },
  {
   "cell_type": "code",
   "execution_count": 4,
   "metadata": {
    "ExecuteTime": {
     "end_time": "2023-05-25T17:52:34.321543Z",
     "start_time": "2023-05-25T17:52:34.293716Z"
    }
   },
   "outputs": [
    {
     "ename": "AttributeError",
     "evalue": "module 'speech_recognition' has no attribute 'listen'",
     "output_type": "error",
     "traceback": [
      "\u001b[0;31m---------------------------------------------------------------------------\u001b[0m",
      "\u001b[0;31mAttributeError\u001b[0m                            Traceback (most recent call last)",
      "Cell \u001b[0;32mIn[4], line 6\u001b[0m\n\u001b[1;32m      3\u001b[0m harvard \u001b[38;5;241m=\u001b[39m sr\u001b[38;5;241m.\u001b[39mWavFile(path)\n\u001b[1;32m      5\u001b[0m \u001b[38;5;28;01mwith\u001b[39;00m harvard \u001b[38;5;28;01mas\u001b[39;00m source:\n\u001b[0;32m----> 6\u001b[0m     audio \u001b[38;5;241m=\u001b[39m \u001b[43msr\u001b[49m\u001b[38;5;241;43m.\u001b[39;49m\u001b[43mlisten\u001b[49m(source)\n",
      "\u001b[0;31mAttributeError\u001b[0m: module 'speech_recognition' has no attribute 'listen'"
     ]
    }
   ],
   "source": [
    "path = '/opt/dna/speech_recognition/datalake/medroom/transient/c8a2b187-5f1f-411e-8e7b-cffef216e7c1.wav'\n",
    "r = sr.Recognizer()\n",
    "harvard = sr.WavFile(path)\n",
    "\n",
    "with harvard as source:\n",
    "    audio = sr.listen(source)"
   ]
  },
  {
   "cell_type": "code",
   "execution_count": null,
   "metadata": {
    "ExecuteTime": {
     "end_time": "2023-05-25T17:43:31.054326Z",
     "start_time": "2023-05-25T17:43:30.837360Z"
    }
   },
   "outputs": [],
   "source": [
    "r = sr.Recognizer()\n",
    "m = sr.Microphone()\n",
    "recognize_speech_from_mic(r, m)"
   ]
  },
  {
   "cell_type": "code",
   "execution_count": null,
   "metadata": {
    "ExecuteTime": {
     "end_time": "2023-05-25T16:57:42.759683Z",
     "start_time": "2023-05-25T16:57:35.221729Z"
    }
   },
   "outputs": [],
   "source": [
    "! pip install PyAudio"
   ]
  },
  {
   "cell_type": "code",
   "execution_count": null,
   "metadata": {},
   "outputs": [],
   "source": []
  }
 ],
 "metadata": {
  "kernelspec": {
   "display_name": "Python 3 (ipykernel)",
   "language": "python",
   "name": "python3"
  },
  "language_info": {
   "codemirror_mode": {
    "name": "ipython",
    "version": 3
   },
   "file_extension": ".py",
   "mimetype": "text/x-python",
   "name": "python",
   "nbconvert_exporter": "python",
   "pygments_lexer": "ipython3",
   "version": "3.8.16"
  },
  "toc": {
   "base_numbering": 1,
   "nav_menu": {},
   "number_sections": true,
   "sideBar": true,
   "skip_h1_title": false,
   "title_cell": "Table of Contents",
   "title_sidebar": "Contents",
   "toc_cell": false,
   "toc_position": {},
   "toc_section_display": true,
   "toc_window_display": false
  }
 },
 "nbformat": 4,
 "nbformat_minor": 2
}
